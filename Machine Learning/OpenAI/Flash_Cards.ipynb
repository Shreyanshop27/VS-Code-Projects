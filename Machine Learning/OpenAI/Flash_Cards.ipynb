{
 "cells": [
  {
   "cell_type": "code",
   "execution_count": 22,
   "metadata": {},
   "outputs": [
    {
     "name": "stdout",
     "output_type": "stream",
     "text": [
      "{'1. Choose  the  right  answer  from  the  four  alternatives  given  below.': {}}\n"
     ]
    }
   ],
   "source": [
    "import re\n",
    "import pdfminer.high_level\n",
    "\n",
    "def extract_text_from_pdf(file_path):\n",
    "    text = pdfminer.high_level.extract_text(file_path)\n",
    "    return text\n",
    "\n",
    "def get_headings_and_subheadings(text):\n",
    "    # Define regular expressions for matching headings and subheadings\n",
    "    heading_regex = re.compile(r'^\\d+\\.\\s+.+$')\n",
    "    subheading_regex = re.compile(r'^\\d+\\.\\d+\\.\\s+.+$')\n",
    "    \n",
    "    # Split the text into lines and iterate over each line\n",
    "    lines = text.split('\\n')\n",
    "    headings = {}\n",
    "    current_heading = None\n",
    "    current_subheading = None\n",
    "    for line in lines:\n",
    "        # Check if the line matches the heading or subheading regex\n",
    "        if heading_regex.match(line):\n",
    "            # Save the current subheading under the current heading\n",
    "            if current_subheading is not None:\n",
    "                headings[current_heading][current_subheading] = subheading_content\n",
    "                current_subheading = None\n",
    "            \n",
    "            # Update the current heading and create a new entry in the dictionary\n",
    "            current_heading = line.strip()\n",
    "            headings[current_heading] = {}\n",
    "        elif subheading_regex.match(line):\n",
    "            # Save the content of the previous subheading\n",
    "            if current_subheading is not None:\n",
    "                headings[current_heading][current_subheading] = subheading_content\n",
    "            \n",
    "            # Update the current subheading and create a new entry in the dictionary\n",
    "            current_subheading = line.strip()\n",
    "            subheading_content = ''\n",
    "        elif current_subheading is not None:\n",
    "            # Add the line to the content of the current subheading\n",
    "            subheading_content += line.strip() + ' '\n",
    "    \n",
    "    # Save the content of the last subheading\n",
    "    if current_subheading is not None:\n",
    "        headings[current_heading][current_subheading] = subheading_content\n",
    "    \n",
    "    return headings\n",
    "\n",
    "# Example usage\n",
    "file_path = r\"C:\\Users\\shreyansh verma\\Desktop\\Class IX books\\Contemporary India\\iess101.pdf\"\n",
    "text = extract_text_from_pdf(file_path)\n",
    "headings = get_headings_and_subheadings(text)\n",
    "print(headings)\n"
   ]
  },
  {
   "cell_type": "code",
   "execution_count": null,
   "metadata": {},
   "outputs": [],
   "source": [
    "import openai\n",
    "openai.api_key = \"YOUR_API_KEY\" # replace this with your API key\n",
    "\n",
    "prompt = \"What is the meaning of life?\"\n",
    "model = \"text-davinci-002\" # or any other model you prefer\n",
    "\n",
    "response = openai.Completion.create(\n",
    "    engine=model,\n",
    "    prompt=prompt,\n",
    "    max_tokens=50\n",
    ")\n",
    "\n",
    "output = response.choices[0].text.strip()\n",
    "print(output)\n"
   ]
  },
  {
   "cell_type": "code",
   "execution_count": null,
   "metadata": {},
   "outputs": [],
   "source": []
  }
 ],
 "metadata": {
  "kernelspec": {
   "display_name": "env",
   "language": "python",
   "name": "python3"
  },
  "language_info": {
   "codemirror_mode": {
    "name": "ipython",
    "version": 3
   },
   "file_extension": ".py",
   "mimetype": "text/x-python",
   "name": "python",
   "nbconvert_exporter": "python",
   "pygments_lexer": "ipython3",
   "version": "3.10.11"
  },
  "orig_nbformat": 4
 },
 "nbformat": 4,
 "nbformat_minor": 2
}
